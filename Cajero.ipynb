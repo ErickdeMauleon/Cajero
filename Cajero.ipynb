{
 "cells": [
  {
   "cell_type": "code",
   "execution_count": 86,
   "metadata": {},
   "outputs": [],
   "source": [
    "import names\n",
    "from random import randint, random\n",
    "import numpy as np"
   ]
  },
  {
   "cell_type": "code",
   "execution_count": 75,
   "metadata": {},
   "outputs": [],
   "source": [
    "nombres = {names.get_first_name() + ' ' + names.get_last_name() for _ in range(2000)}\n",
    "clientes = dict()\n",
    "for name in nombres:\n",
    "    clientes[name] = {'NIP': str(randint(0,9999)).zfill(4),\n",
    "                       'Saldo': 100*randint(1, 100), \n",
    "                       'Retiros': randint(1, 5),\n",
    "                       'T_credito': (np.round(random()+0.4) + 1) % 2}\n",
    "    \n",
    "with open('clientes.json','w') as file:\n",
    "    file.write(str(clientes).replace(\"'\",'\"'))"
   ]
  },
  {
   "cell_type": "code",
   "execution_count": 76,
   "metadata": {},
   "outputs": [],
   "source": [
    "import requests\n",
    "clientes = requests.get('https://raw.github.com/ErickdeMauleon/Cajero/master/clientes.json')\n",
    "clientes = clientes.json()"
   ]
  },
  {
   "cell_type": "code",
   "execution_count": 79,
   "metadata": {},
   "outputs": [
    {
     "data": {
      "text/plain": [
       "0.09418837675350701"
      ]
     },
     "execution_count": 79,
     "metadata": {},
     "output_type": "execute_result"
    }
   ],
   "source": [
    "suma = 0\n",
    "for c, d in clientes.items():\n",
    "    suma += d['T_credito']\n",
    "suma/len(clientes.keys())"
   ]
  },
  {
   "cell_type": "markdown",
   "metadata": {},
   "source": [
    "# Ejercicio\n",
    "\n",
    "### Vamos a simular un cajero automático\n",
    "### Escribir una rutina que pida al cliente su nombre e identificar si existe en la base\n",
    "### Si existe, el usuario deberá ingresar su NIP, sólo tiene 3 intentos\n",
    "### Le pedimos al usuario el monto a retirar, sólo tenemos billetes desde $\\$50$\n",
    "### No puede retirar más de $\\$6,000$ y más de su saldo\n",
    "### Si desea retirar de una tarjeta de crédito se le cobrará una comisión del 4%\n",
    "### Hay que revisar que aún le queden retiros disponibles"
   ]
  },
  {
   "cell_type": "code",
   "execution_count": 129,
   "metadata": {},
   "outputs": [],
   "source": [
    "import json\n",
    "with open('clientes.json', 'r') as f:\n",
    "    clientes = json.load(f)"
   ]
  },
  {
   "cell_type": "code",
   "execution_count": 131,
   "metadata": {},
   "outputs": [
    {
     "data": {
      "text/plain": [
       "{'NIP': '7275', 'Saldo': 9300, 'Retiros': 5, 'T_credito': 1.0}"
      ]
     },
     "execution_count": 131,
     "metadata": {},
     "output_type": "execute_result"
    }
   ],
   "source": [
    "clientes['Saundra Almond']"
   ]
  },
  {
   "cell_type": "code",
   "execution_count": 133,
   "metadata": {},
   "outputs": [
    {
     "name": "stdout",
     "output_type": "stream",
     "text": [
      "¿Cómo te llamas?\n",
      "Saundra Almond\n",
      "Hola Saundra Almond introduce tu NIP:\n",
      "7275\n",
      "¿Cuánto deseas retirar?\n",
      "100\n",
      "Saundra Almond te quedan: $8988.0\n",
      "Ten un buen día\n"
     ]
    }
   ],
   "source": [
    "Nombre = input('¿Cómo te llamas?\\n')\n",
    "if Nombre in clientes.keys():\n",
    "    i = 1\n",
    "    NIP = ''\n",
    "    while NIP != clientes[Nombre]['NIP']:\n",
    "        if i == 4:\n",
    "            print('Cuenta bloqueada. Ya no tienes más intentos.')\n",
    "            break\n",
    "        else:\n",
    "            NIP = input('Hola %s introduce tu NIP:\\n' % Nombre)\n",
    "        i += 1\n",
    "    \n",
    "    if NIP == clientes[Nombre]['NIP']:\n",
    "        if clientes[Nombre]['Retiros'] == 0:\n",
    "            print('Ya no tienes retiros :(')\n",
    "        else:\n",
    "            retiro_valido = False\n",
    "            while retiro_valido == False:\n",
    "                retiro = input('¿Cuánto deseas retirar?\\n')\n",
    "                try:\n",
    "                    retiro = int(retiro)\n",
    "                    if retiro > 8000:\n",
    "                        print('No puedes retirar tanto')\n",
    "                    elif retiro % 50 != 0:\n",
    "                        print('Sólo tengo billetes en montos de $50')\n",
    "                    else:\n",
    "                        retiro_valido = True\n",
    "                except:\n",
    "                    print('Tienes que darme un número entero')\n",
    "            clientes[Nombre]['Saldo'] -= retiro * (1 + 0.04 * clientes[Nombre]['T_credito'])\n",
    "            print(Nombre + \" te quedan: $\" + str(clientes[Nombre]['Saldo']))\n",
    "            print(\"Ten un buen día\")\n",
    "            clientes[Nombre]['Retiros'] -= 1\n",
    "\n",
    "else:\n",
    "    print('No eres cliente de mi banco.')\n",
    "        "
   ]
  }
 ],
 "metadata": {
  "kernelspec": {
   "display_name": "Python 3",
   "language": "python",
   "name": "python3"
  },
  "language_info": {
   "codemirror_mode": {
    "name": "ipython",
    "version": 3
   },
   "file_extension": ".py",
   "mimetype": "text/x-python",
   "name": "python",
   "nbconvert_exporter": "python",
   "pygments_lexer": "ipython3",
   "version": "3.7.3"
  }
 },
 "nbformat": 4,
 "nbformat_minor": 2
}
